# AutoGluon Notebook 示例

```python
import pandas as pd
from autogluon.tabular import TabularPredictor

# 示例数据
df = pd.DataFrame({
    'feature1': [1,2,3,4,5],
    'feature2': [5,4,3,2,1],
    'label': [0,1,0,1,0]
})

predictor = TabularPredictor(label='label').fit(df)
feature_importance = predictor.feature_importance(df)
print(feature_importance)
